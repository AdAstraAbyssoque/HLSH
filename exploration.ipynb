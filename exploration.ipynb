{
 "cells": [
  {
   "cell_type": "code",
   "execution_count": 3,
   "id": "727da7d0",
   "metadata": {},
   "outputs": [],
   "source": [
    "import os\n",
    "import sys\n",
    "import yaml\n",
    "import time\n",
    "from tqdm import tqdm\n",
    "from src.utils.logger import setup_logger\n",
    "from src.utils.data_loader import DataLoader\n",
    "from src.feature_extraction import FeatureExtractor\n",
    "from src.fingerprint.minhash import MinHash\n",
    "from src.fingerprint.simhash import SimHash\n",
    "from src.fingerprint.bitsampling import BitSampling\n",
    "from src.lsh.lsh_index import MinHashLSHIndex, SimHashLSHIndex, BitSamplingLSHIndex\n",
    "from src.lsh.evaluation import Evaluator\n",
    "from src.preprocessing import preprocess_text\n",
    "\n",
    "\n",
    "def load_config(config_path: str) -> dict:\n",
    "    with open(config_path, \"r\") as file:\n",
    "        return yaml.safe_load(file)"
   ]
  },
  {
   "cell_type": "code",
   "execution_count": 4,
   "id": "afcba7d3",
   "metadata": {},
   "outputs": [
    {
     "name": "stderr",
     "output_type": "stream",
     "text": [
      "2025-04-08 22:11:32,901 - data/processed/system.log - INFO - 系统启动，加载配置完成。\n"
     ]
    }
   ],
   "source": [
    "# 加载配置文件\n",
    "config_path = \"config/config.yaml\"\n",
    "config = load_config(config_path)\n",
    "\n",
    "log_file = config[\"logging\"][\"log_file\"]\n",
    "log_level = config[\"logging\"][\"log_level\"]\n",
    "logger = setup_logger(log_file, log_level)\n",
    "logger.info(\"系统启动，加载配置完成。\")"
   ]
  },
  {
   "cell_type": "code",
   "execution_count": 5,
   "id": "62eebd42",
   "metadata": {},
   "outputs": [
    {
     "name": "stderr",
     "output_type": "stream",
     "text": [
      "2025-04-08 22:11:32,955 - data/processed/system.log - INFO - 加载数据路径：data/raw/sample_test.parquet\n",
      "2025-04-08 22:11:32,956 - data/processed/system.log - INFO - 加载单个文件：data/raw/sample_test.parquet\n",
      "2025-04-08 22:11:32,956 - data/processed/system.log - INFO - 加载单个文件：data/raw/sample_test.parquet\n",
      "2025-04-08 22:11:33,039 - data/processed/system.log - INFO - 数据加载完成，共加载 8 条记录。\n"
     ]
    }
   ],
   "source": [
    "# 加载数据\n",
    "data_loader = DataLoader()\n",
    "raw_data_path = config[\"data\"][\"raw_data_path\"]\n",
    "logger.info(f\"加载数据路径：{raw_data_path}\")\n",
    "\n",
    "raw_data = []\n",
    "\n",
    "if os.path.isfile(raw_data_path) and raw_data_path.endswith(\".parquet\"):\n",
    "    try:\n",
    "        logger.info(f\"加载单个文件：{raw_data_path}\")\n",
    "        raw_data = data_loader.load_data(raw_data_path)\n",
    "    except Exception as e:\n",
    "        logger.error(f\"文件加载失败：{e}\")\n",
    "elif os.path.isdir(raw_data_path):\n",
    "    logger.info(f\"加载目录中的 Parquet 文件：{raw_data_path}\")\n",
    "    parquet_files = [os.path.join(raw_data_path, f) for f in os.listdir(\n",
    "        raw_data_path) if f.endswith(\".parquet\")]\n",
    "    for file_path in parquet_files:\n",
    "        try:\n",
    "            logger.info(f\"加载文件：{file_path}\")\n",
    "            raw_data.extend(data_loader.load_data(file_path))\n",
    "        except Exception as e:\n",
    "            logger.warning(f\"{file_path} 加载失败：{e}\")\n",
    "else:\n",
    "    logger.error(\"无效路径，退出。\")\n",
    "    raise SystemExit()\n",
    "\n",
    "logger.info(f\"数据加载完成，共加载 {len(raw_data)} 条记录。\")"
   ]
  },
  {
   "cell_type": "code",
   "execution_count": 6,
   "id": "0b4ad53c",
   "metadata": {},
   "outputs": [
    {
     "name": "stderr",
     "output_type": "stream",
     "text": [
      "2025-04-08 22:11:33,043 - data/processed/system.log - INFO - 开始文本预处理...\n",
      "2025-04-08 22:11:33,044 - data/processed/system.log - INFO - 特征提取方法：ngram\n",
      "2025-04-08 22:11:33,044 - data/processed/system.log - INFO - 预处理和特征提取完成。\n",
      "2025-04-08 22:11:33,044 - data/processed/system.log - INFO - 特征提取方法：ngram\n",
      "2025-04-08 22:11:33,044 - data/processed/system.log - INFO - 预处理和特征提取完成。\n"
     ]
    }
   ],
   "source": [
    "# 文本处理和特征提取示例\n",
    "logger.info(\"开始文本预处理...\")\n",
    "preprocessed_data = [preprocess_text(text) for text in raw_data]\n",
    "\n",
    "feature_method = config[\"feature_extraction\"][\"method\"]\n",
    "ngram_size = config[\"feature_extraction\"].get(\"ngram_size\", 3)\n",
    "\n",
    "logger.info(f\"特征提取方法：{feature_method}\")\n",
    "extractor = FeatureExtractor(method=feature_method, n=ngram_size)\n",
    "features = [extractor.extract_features(text) for text in preprocessed_data]\n",
    "logger.info(\"预处理和特征提取完成。\")"
   ]
  },
  {
   "cell_type": "code",
   "execution_count": 7,
   "id": "99b88e97",
   "metadata": {},
   "outputs": [
    {
     "name": "stderr",
     "output_type": "stream",
     "text": [
      "2025-04-08 22:11:33,049 - data/processed/system.log - INFO - 开始指纹生成，方法：minhash\n",
      "生成 MinHash 签名: 100%|██████████| 8/8 [00:00<00:00, 4444.30it/s]\n",
      "2025-04-08 22:11:33,066 - data/processed/system.log - INFO - 签名保存至：data/processed/fingerprints.csv\n"
     ]
    },
    {
     "name": "stdout",
     "output_type": "stream",
     "text": [
      "数据已成功保存为 CSV 文件: data/processed/fingerprints.csv\n"
     ]
    }
   ],
   "source": [
    "# 指纹生成\n",
    "fingerprint_method = config[\"fingerprint\"][\"method\"]\n",
    "logger.info(f\"开始指纹生成，方法：{fingerprint_method}\")\n",
    "\n",
    "if fingerprint_method == \"minhash\":\n",
    "    minhash = MinHash(config[\"fingerprint\"][\"num_hashes\"],\n",
    "                      seed=config[\"fingerprint\"].get(\"seed\"))\n",
    "    signatures = [minhash.compute_signature(\n",
    "        f) for f in tqdm(features, desc=\"生成 MinHash 签名\")]\n",
    "elif fingerprint_method == \"simhash\":\n",
    "    simhash = SimHash(hash_bits=config[\"fingerprint\"][\"hash_bits\"])\n",
    "    signatures = [simhash.compute_signature(\n",
    "        f) for f in tqdm(features, desc=\"生成 SimHash 签名\")]\n",
    "elif fingerprint_method == \"bitsampling\":\n",
    "    bitsampling = BitSampling(\n",
    "        sample_size=config[\"fingerprint\"][\"sample_size\"],\n",
    "        hash_bits=config[\"fingerprint\"][\"hash_bits\"],\n",
    "        seed=config[\"fingerprint\"].get(\"seed\")\n",
    "    )\n",
    "    signatures = [bitsampling.compute_signature(\n",
    "        f) for f in tqdm(features, desc=\"生成 BitSampling 签名\")]\n",
    "else:\n",
    "    logger.error(\"未知指纹方法，退出。\")\n",
    "    raise SystemExit()\n",
    "\n",
    "# 可选：保存签名\n",
    "fingerprint_output_path = config[\"fingerprint\"][\"output_path\"]\n",
    "data_loader.save_signatures(signatures, fingerprint_output_path)\n",
    "logger.info(f\"签名保存至：{fingerprint_output_path}\")"
   ]
  },
  {
   "cell_type": "code",
   "execution_count": 8,
   "id": "17693ddd",
   "metadata": {},
   "outputs": [
    {
     "name": "stderr",
     "output_type": "stream",
     "text": [
      "2025-04-08 22:11:33,070 - data/processed/system.log - INFO - 开始构建 LSH 索引，方法：minhash\n",
      "2025-04-08 22:11:33,072 - data/processed/system.log - INFO - 生成候选文档对数量：1\n",
      "2025-04-08 22:11:33,072 - data/processed/system.log - INFO - 生成候选文档对数量：1\n"
     ]
    }
   ],
   "source": [
    "# LSH 索引构建\n",
    "lsh_method = config[\"lsh\"][\"method\"]\n",
    "logger.info(f\"开始构建 LSH 索引，方法：{lsh_method}\")\n",
    "\n",
    "if lsh_method == \"minhash\":\n",
    "    lsh_index = MinHashLSHIndex(\n",
    "        config[\"lsh\"][\"num_bands\"], config[\"lsh\"][\"rows_per_band\"])\n",
    "elif lsh_method == \"simhash\":\n",
    "    lsh_index = SimHashLSHIndex(radius=config[\"lsh\"][\"radius\"])\n",
    "elif lsh_method == \"bitsampling\":\n",
    "    lsh_index = BitSamplingLSHIndex(\n",
    "        config[\"lsh\"][\"num_hash_tables\"], config[\"lsh\"][\"bits_per_table\"])\n",
    "else:\n",
    "    logger.error(\"未知 LSH 方法，退出。\")\n",
    "    raise SystemExit()\n",
    "\n",
    "lsh_index.index(signatures)\n",
    "candidate_pairs = lsh_index.get_candidate_pairs()\n",
    "logger.info(f\"生成候选文档对数量：{len(candidate_pairs)}\")"
   ]
  },
  {
   "cell_type": "code",
   "execution_count": 9,
   "id": "7aebcaf4",
   "metadata": {},
   "outputs": [
    {
     "name": "stderr",
     "output_type": "stream",
     "text": [
      "2025-04-08 22:11:33,078 - data/processed/system.log - WARNING - 未提供 ground truth，跳过准确率评估。\n",
      "2025-04-08 22:11:33,079 - data/processed/system.log - INFO - 估计重复率：1.0000\n",
      "2025-04-08 22:11:33,079 - data/processed/system.log - INFO - 估计重复率：1.0000\n"
     ]
    }
   ],
   "source": [
    "# 评估\n",
    "ground_truth_path = config[\"evaluation\"][\"ground_truth_path\"]\n",
    "\n",
    "if os.path.exists(ground_truth_path):\n",
    "    with open(ground_truth_path, \"r\") as f:\n",
    "        ground_truth = set(tuple(map(int, line.strip().split(\",\")))\n",
    "                           for line in f)\n",
    "else:\n",
    "    logger.warning(\"未提供 ground truth，跳过准确率评估。\")\n",
    "    ground_truth = None\n",
    "\n",
    "evaluator = Evaluator(candidate_pairs, ground_truth)\n",
    "\n",
    "if ground_truth:\n",
    "    metrics = evaluator.compute_performance_metrics()\n",
    "    evaluator.generate_report(metrics, runtime=time.time())\n",
    "else:\n",
    "    dup_rate = evaluator.compute_duplicate_rate()\n",
    "    logger.info(f\"估计重复率：{dup_rate:.4f}\")"
   ]
  },
  {
   "cell_type": "code",
   "execution_count": 10,
   "id": "6d65ef14",
   "metadata": {},
   "outputs": [
    {
     "name": "stderr",
     "output_type": "stream",
     "text": [
      "2025-04-08 22:11:33,085 - data/processed/system.log - INFO - 候选对写入完成：data/results/candidate_pairs.csv\n"
     ]
    }
   ],
   "source": [
    "# 保存候选对\n",
    "results_path = config[\"output\"][\"results_path\"]\n",
    "os.makedirs(os.path.dirname(results_path), exist_ok=True)\n",
    "\n",
    "with open(results_path, \"w\") as f:\n",
    "    for pair in candidate_pairs:\n",
    "        f.write(f\"{pair[0]},{pair[1]}\\n\")\n",
    "\n",
    "logger.info(f\"候选对写入完成：{results_path}\")"
   ]
  }
 ],
 "metadata": {
  "kernelspec": {
   "display_name": "lsh",
   "language": "python",
   "name": "python3"
  },
  "language_info": {
   "codemirror_mode": {
    "name": "ipython",
    "version": 3
   },
   "file_extension": ".py",
   "mimetype": "text/x-python",
   "name": "python",
   "nbconvert_exporter": "python",
   "pygments_lexer": "ipython3",
   "version": "3.13.2"
  }
 },
 "nbformat": 4,
 "nbformat_minor": 5
}
